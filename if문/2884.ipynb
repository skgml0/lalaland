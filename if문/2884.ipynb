{
 "cells": [
  {
   "cell_type": "code",
   "execution_count": null,
   "metadata": {},
   "outputs": [],
   "source": [
    "H,M= map(int,input().split(' '))\n",
    "if 0<H and H<=23:\n",
    "    if (M-45)>=0:\n",
    "        print(H, M-45)\n",
    "    else:\n",
    "        print(H-1, M-45+60)\n",
    "elif H==0:\n",
    "    if (M-45)>=0:\n",
    "        print(H, M-45)\n",
    "    else:\n",
    "        print(H+23, M-45+60)"
   ]
  }
 ],
 "metadata": {
  "kernelspec": {
   "display_name": "Python 3",
   "language": "python",
   "name": "python3"
  },
  "language_info": {
   "codemirror_mode": {
    "name": "ipython",
    "version": 3
   },
   "file_extension": ".py",
   "mimetype": "text/x-python",
   "name": "python",
   "nbconvert_exporter": "python",
   "pygments_lexer": "ipython3",
   "version": "3.8.5"
  }
 },
 "nbformat": 4,
 "nbformat_minor": 4
}
