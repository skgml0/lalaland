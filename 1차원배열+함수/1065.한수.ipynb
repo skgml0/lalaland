{
 "cells": [
  {
   "cell_type": "code",
   "execution_count": 18,
   "metadata": {},
   "outputs": [
    {
     "name": "stdout",
     "output_type": "stream",
     "text": [
      "210\n",
      "105\n"
     ]
    }
   ],
   "source": [
    "def hansu():\n",
    "    # 첫째줄에 1000보다 작거나 같은 자연수가 주어진다. \n",
    "    N=int(input())\n",
    "    hansu_count=0\n",
    "    #print(type(N))\n",
    "    if N <=99:\n",
    "        hansu_count=N\n",
    "    else:\n",
    "        #100이상일때 한수 기본값은 99다.\n",
    "        hansu_count=99\n",
    "        for i in range(100,N+1):\n",
    "        # 세자리 중 첫째 자리\n",
    "            a=i //100\n",
    "            b=(i%100)//10\n",
    "            c=(i%100)%10\n",
    "            #print(a,b,c)\n",
    "            if a-b==b-c:\n",
    "                hansu_count+=1\n",
    "    print(hansu_count)\n",
    "hansu()   \n",
    "        "
   ]
  },
  {
   "cell_type": "code",
   "execution_count": 17,
   "metadata": {},
   "outputs": [
    {
     "name": "stdout",
     "output_type": "stream",
     "text": [
      "1000\n",
      "<class 'int'>\n",
      "144\n"
     ]
    }
   ],
   "source": []
  },
  {
   "cell_type": "code",
   "execution_count": null,
   "metadata": {},
   "outputs": [],
   "source": []
  }
 ],
 "metadata": {
  "kernelspec": {
   "display_name": "Python 3",
   "language": "python",
   "name": "python3"
  },
  "language_info": {
   "codemirror_mode": {
    "name": "ipython",
    "version": 3
   },
   "file_extension": ".py",
   "mimetype": "text/x-python",
   "name": "python",
   "nbconvert_exporter": "python",
   "pygments_lexer": "ipython3",
   "version": "3.8.5"
  }
 },
 "nbformat": 4,
 "nbformat_minor": 4
}
