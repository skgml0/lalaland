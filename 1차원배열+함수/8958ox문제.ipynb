{
 "cells": [
  {
   "cell_type": "code",
   "execution_count": 1,
   "metadata": {},
   "outputs": [
    {
     "name": "stdout",
     "output_type": "stream",
     "text": [
      "5\n"
     ]
    }
   ],
   "source": [
    "N=map(int,input())"
   ]
  },
  {
   "cell_type": "code",
   "execution_count": 5,
   "metadata": {},
   "outputs": [
    {
     "name": "stdout",
     "output_type": "stream",
     "text": [
      "OOXXOXXOOO\n",
      "OOXXOOXXOO\n",
      "OXOXOXOXOXOXOX\n",
      "OOOOOOOOOO\n",
      "OOOOXOOOOXOOOOX\n"
     ]
    }
   ],
   "source": [
    "ex=list(input() for _ in range(5))"
   ]
  },
  {
   "cell_type": "markdown",
   "metadata": {},
   "source": [
    "result=[]\n",
    "for i in ex:\n",
    "    #print(i)\n",
    "    a=i.split('X')\n",
    "    sum=0\n",
    "    \n",
    "    for j in a:\n",
    "        n= j.count('O')\n",
    "        for s in range(1,n+1):\n",
    "            sum += s\n",
    "    result.append(sum)\n",
    "    print(sum)\n"
   ]
  },
  {
   "cell_type": "markdown",
   "metadata": {},
   "source": [
    "\n",
    "result=[]\n",
    "for i in ex:\n",
    "    print(i)\n",
    "    a=i.split('X')\n",
    "    print(a)\n",
    "    print(a.count('O'))\n",
    "    \n",
    "    for j in a:\n",
    "        sum=0\n",
    "        print('O개수는',j.count('O'))\n",
    "        n= j.count('O')\n",
    "        print(type(n))\n",
    "        result.append(n)\n",
    "        print('할수있냐?',result)\n",
    "        print('---------------------------------')\n",
    "        for s in range(1,n+1):\n",
    "            print('나와라',s)\n",
    "            sum += s\n",
    "    print('합나와라',sum)\n",
    "            #for s in range(num):\n",
    "            #sum+=s"
   ]
  },
  {
   "cell_type": "code",
   "execution_count": null,
   "metadata": {},
   "outputs": [],
   "source": [
    "##성공\n",
    "N=input()\n",
    "ex=list(input() for _ in range(int(N)))\n",
    "for i in ex:\n",
    "    #print(i)\n",
    "    a=i.split('X')\n",
    "    sum=0\n",
    "    \n",
    "    for j in a:\n",
    "        n= j.count('O')\n",
    "        for s in range(1,n+1):\n",
    "            sum += s\n",
    "    print(sum)\n",
    "    "
   ]
  },
  {
   "cell_type": "code",
   "execution_count": null,
   "metadata": {},
   "outputs": [],
   "source": []
  }
 ],
 "metadata": {
  "kernelspec": {
   "display_name": "Python 3",
   "language": "python",
   "name": "python3"
  },
  "language_info": {
   "codemirror_mode": {
    "name": "ipython",
    "version": 3
   },
   "file_extension": ".py",
   "mimetype": "text/x-python",
   "name": "python",
   "nbconvert_exporter": "python",
   "pygments_lexer": "ipython3",
   "version": "3.8.5"
  }
 },
 "nbformat": 4,
 "nbformat_minor": 4
}
