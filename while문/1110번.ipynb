{
 "cells": [
  {
   "cell_type": "code",
   "execution_count": null,
   "metadata": {},
   "outputs": [],
   "source": [
    "N= input()\n",
    "N1= N\n",
    "count = 0\n",
    "if len(N)>=1:\n",
    "    while 1:\n",
    "            sum = int(N)//10 +int(N)%10\n",
    "            N=str(int(N)%10) +str(int(sum)%10)\n",
    "            count +=1\n",
    "\n",
    "            if N==N1:\n",
    "                print(count)\n",
    "                break\n",
    "            if N==str(0)+N1:\n",
    "                print(count)\n",
    "                break\n"
   ]
  }
 ],
 "metadata": {
  "kernelspec": {
   "display_name": "Python 3",
   "language": "python",
   "name": "python3"
  },
  "language_info": {
   "codemirror_mode": {
    "name": "ipython",
    "version": 3
   },
   "file_extension": ".py",
   "mimetype": "text/x-python",
   "name": "python",
   "nbconvert_exporter": "python",
   "pygments_lexer": "ipython3",
   "version": "3.8.5"
  }
 },
 "nbformat": 4,
 "nbformat_minor": 4
}
