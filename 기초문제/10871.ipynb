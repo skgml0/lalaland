{
 "cells": [
  {
   "cell_type": "code",
   "execution_count": null,
   "metadata": {},
   "outputs": [],
   "source": [
    "N,X=map(int,input().split(' '))\n",
    "a=list(map(int,input().split(' ')))\n",
    "b=[]\n",
    "if len(a)==N:\n",
    "    for i in range(N): \n",
    "        if a[i] <X:\n",
    "            b.append(a[i])\n",
    "    \n",
    "    for i in b:\n",
    "        print(i,end=\" \")"
   ]
  }
 ],
 "metadata": {
  "kernelspec": {
   "display_name": "Python 3",
   "language": "python",
   "name": "python3"
  },
  "language_info": {
   "codemirror_mode": {
    "name": "ipython",
    "version": 3
   },
   "file_extension": ".py",
   "mimetype": "text/x-python",
   "name": "python",
   "nbconvert_exporter": "python",
   "pygments_lexer": "ipython3",
   "version": "3.8.5"
  }
 },
 "nbformat": 4,
 "nbformat_minor": 4
}
