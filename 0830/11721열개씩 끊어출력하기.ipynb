{
 "cells": [
  {
   "cell_type": "code",
   "execution_count": 28,
   "id": "c64286f1",
   "metadata": {},
   "outputs": [
    {
     "name": "stdout",
     "output_type": "stream",
     "text": [
      "BaekjoonOnlineJudge\n",
      "n: 9 k: 1\n"
     ]
    }
   ],
   "source": [
    "li=list(input()) #리스트에 집어넣기\n",
    "n=len(li)%10 # 나머지값\n",
    "k=len(li)//10 # 몫\n",
    "###\n",
    "print(\"n:\",n,\"k:\",k)\n",
    "for i in range(0,k-1):\n",
    "    print(\"k\",)\n",
    "    for j in range(10):\n",
    "        print(li[k*10+j])\n",
    "            \n",
    "    \n"
   ]
  },
  {
   "cell_type": "code",
   "execution_count": 29,
   "id": "de402890",
   "metadata": {},
   "outputs": [
    {
     "name": "stdout",
     "output_type": "stream",
     "text": [
      "BaekjoonOnlineJudge\n",
      "BaekjoonOn\n",
      "lineJudge\n"
     ]
    }
   ],
   "source": [
    "n= input()\n",
    "for i in range(0,len(n),10):\n",
    "    print(n[i:i+10])"
   ]
  },
  {
   "cell_type": "code",
   "execution_count": null,
   "id": "1105bbb2",
   "metadata": {},
   "outputs": [],
   "source": [
    "####0부터 len의 길이를 10씩 증가. 그러면 i=0, 10, 20 ...\n",
    "print( n[i:i+10]) #n[0:10], n[10:20]으로 출력하게 된다. "
   ]
  }
 ],
 "metadata": {
  "kernelspec": {
   "display_name": "Python 3",
   "language": "python",
   "name": "python3"
  },
  "language_info": {
   "codemirror_mode": {
    "name": "ipython",
    "version": 3
   },
   "file_extension": ".py",
   "mimetype": "text/x-python",
   "name": "python",
   "nbconvert_exporter": "python",
   "pygments_lexer": "ipython3",
   "version": "3.8.8"
  }
 },
 "nbformat": 4,
 "nbformat_minor": 5
}
