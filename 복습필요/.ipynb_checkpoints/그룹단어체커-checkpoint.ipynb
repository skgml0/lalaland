{
 "cells": [
  {
   "cell_type": "code",
   "execution_count": null,
   "id": "704d8661",
   "metadata": {},
   "outputs": [],
   "source": [
    "# 그룹단어란 단어에 존재하는 모든 문자에 대해서 각 문자가 연속해서 나타나는 경우만을 말한다.\n",
    "#단어 n개를 입력받아 그룹단어 개수 출력 \n",
    "num= int(input())\n",
    "for i in range(num):\n",
    "    ans.list=input()\n",
    "    "
   ]
  }
 ],
 "metadata": {
  "kernelspec": {
   "display_name": "Python 3",
   "language": "python",
   "name": "python3"
  },
  "language_info": {
   "codemirror_mode": {
    "name": "ipython",
    "version": 3
   },
   "file_extension": ".py",
   "mimetype": "text/x-python",
   "name": "python",
   "nbconvert_exporter": "python",
   "pygments_lexer": "ipython3",
   "version": "3.8.8"
  }
 },
 "nbformat": 4,
 "nbformat_minor": 5
}
