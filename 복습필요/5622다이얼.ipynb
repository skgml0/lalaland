{
 "cells": [
  {
   "cell_type": "code",
   "execution_count": 3,
   "id": "f330b0e5",
   "metadata": {},
   "outputs": [],
   "source": [
    "#숫자 1을 걸려면 총 2초 ( + 2 칸 이기에) 2면 ( 1 + 2 )한칸마다 +1\n",
    "# 외운단어 주어졌을 떄, 이 전화를 걸기 위해서 필요한 최소 시간 구하는 프로그램 작성\n",
    "#abc 면 2 \n",
    "#def 면 3 ghi 면 4 ..... "
   ]
  },
  {
   "cell_type": "code",
   "execution_count": 16,
   "id": "7afc9234",
   "metadata": {},
   "outputs": [
    {
     "name": "stdout",
     "output_type": "stream",
     "text": [
      "AABBD\n",
      "A\n",
      "A\n",
      "B\n",
      "B\n",
      "D\n",
      "16\n"
     ]
    }
   ],
   "source": [
    "string = list(input())\n",
    "alpha=['ABC','DEF','GHI','JKL','MNO','PQRS','TUV','WXYZ']\n",
    "time=0\n",
    "for i in string: #문자 한글자씩 알아서 가져옴. \n",
    "    #print(i)\n",
    "    for j in alpha:  #해당하는 알파벳이 (리스트인덱스 +2)\n",
    "            if i in j:\n",
    "                value=alpha.index(j)\n",
    "                #print(value)\n",
    "                #print('출력좀해봐',i)\n",
    "                time+=3+value\n",
    "print(time)\n",
    "                "
   ]
  },
  {
   "cell_type": "code",
   "execution_count": 16,
   "id": "75fd4c0e",
   "metadata": {},
   "outputs": [
    {
     "data": {
      "text/plain": [
       "True"
      ]
     },
     "execution_count": 16,
     "metadata": {},
     "output_type": "execute_result"
    }
   ],
   "source": [
    "'A' in 'ABC'"
   ]
  },
  {
   "cell_type": "code",
   "execution_count": null,
   "id": "f507d592",
   "metadata": {},
   "outputs": [],
   "source": [
    "WA"
   ]
  }
 ],
 "metadata": {
  "kernelspec": {
   "display_name": "Python 3",
   "language": "python",
   "name": "python3"
  },
  "language_info": {
   "codemirror_mode": {
    "name": "ipython",
    "version": 3
   },
   "file_extension": ".py",
   "mimetype": "text/x-python",
   "name": "python",
   "nbconvert_exporter": "python",
   "pygments_lexer": "ipython3",
   "version": "3.8.8"
  }
 },
 "nbformat": 4,
 "nbformat_minor": 5
}
