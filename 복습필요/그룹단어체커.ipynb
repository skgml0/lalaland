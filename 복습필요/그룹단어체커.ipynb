{
 "cells": [
  {
   "cell_type": "code",
   "execution_count": 4,
   "id": "704d8661",
   "metadata": {},
   "outputs": [
    {
     "name": "stdout",
     "output_type": "stream",
     "text": [
      "4\n",
      "aba\n",
      "abab\n",
      "abcabc\n",
      "a\n",
      "1\n"
     ]
    }
   ],
   "source": [
    "# 그룹단어란 단어에 존재하는 모든 문자에 대해서 각 문자가 연속해서 나타나는 경우만을 말한다.\n",
    "#단어 n개를 입력받아 그룹단어 개수 출력 \n",
    "#단어는 알파벳 소문자로만 되어있고, 중복되지 않음. \n",
    "n= int(input())\n",
    "ans=n\n",
    "for i in range(n):\n",
    "    word=input()\n",
    "    for j in range(len(word)-1):\n",
    "        if word[j]==word[j+1]:\n",
    "            pass\n",
    "        elif word[j] in word[j+1:]:\n",
    "            ans-=1\n",
    "            break\n",
    "print(ans)"
   ]
  },
  {
   "cell_type": "code",
   "execution_count": null,
   "id": "219b845e",
   "metadata": {},
   "outputs": [],
   "source": []
  }
 ],
 "metadata": {
  "kernelspec": {
   "display_name": "Python 3",
   "language": "python",
   "name": "python3"
  },
  "language_info": {
   "codemirror_mode": {
    "name": "ipython",
    "version": 3
   },
   "file_extension": ".py",
   "mimetype": "text/x-python",
   "name": "python",
   "nbconvert_exporter": "python",
   "pygments_lexer": "ipython3",
   "version": "3.8.8"
  }
 },
 "nbformat": 4,
 "nbformat_minor": 5
}
